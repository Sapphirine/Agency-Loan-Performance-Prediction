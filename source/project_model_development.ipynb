{
 "cells": [
  {
   "cell_type": "markdown",
   "metadata": {},
   "source": [
    "# Model Development and Validation"
   ]
  },
  {
   "cell_type": "code",
   "execution_count": null,
   "metadata": {
    "collapsed": true
   },
   "outputs": [],
   "source": [
    "import numpy as np\n",
    "import pandas as pd\n",
    "import matplotlib.pyplot as plt\n",
    "\n",
    "from sklearn import ensemble\n",
    "from sklearn import preprocessing\n",
    "from sklearn.metrics import roc_curve\n",
    "from sklearn.metrics import roc_auc_score\n",
    "from sklearn import linear_model\n",
    "from sklearn.model_selection import train_test_split\n",
    "from sklearn.neural_network import MLPClassifier"
   ]
  },
  {
   "cell_type": "code",
   "execution_count": null,
   "metadata": {
    "collapsed": true
   },
   "outputs": [],
   "source": [
    "%matplotlib inline"
   ]
  },
  {
   "cell_type": "markdown",
   "metadata": {},
   "source": [
    "## Load Data"
   ]
  },
  {
   "cell_type": "code",
   "execution_count": null,
   "metadata": {
    "collapsed": true
   },
   "outputs": [],
   "source": [
    "data = pd.read_csv(\"D:\\Dataset\\FreddieMac\\intermediate_data\\integrated_data.csv\",index_col=['LOAN_ID'])\n",
    "\n",
    "data['HPI_UP_CHG'] = np.fmax(0, data.HPI_MAX / data.HPI_ORIG - 1)\n",
    "data['HPI_DOWN_CHG'] = np.fmax(0, -data.HPI_MIN / data.HPI_ORIG + 1)\n",
    "data['CLTV_HIGHEST'] = data.ORGN_CLTV * (data.HPI_UP_CHG + 1)\n",
    "data['LOG_LOAN_SIZE'] = np.log(data['LOAN_SIZE'])\n",
    "\n",
    "data = data[data.CHANNEL!='T']"
   ]
  },
  {
   "cell_type": "markdown",
   "metadata": {},
   "source": [
    "## Data Analysis"
   ]
  },
  {
   "cell_type": "code",
   "execution_count": null,
   "metadata": {
    "collapsed": true
   },
   "outputs": [],
   "source": [
    "def categorical_variable_analysis(df, variable_name):\n",
    "    df[variable_name].value_counts().plot(kind='bar')\n",
    "    plt.title('{} distribution'.format(variable_name))\n",
    "    \n",
    "    df[['IND_DEFAULT_2']].groupby(df[variable_name]).mean().plot()\n",
    "    plt.title('{} single factor analysis'.format(variable_name))"
   ]
  },
  {
   "cell_type": "code",
   "execution_count": null,
   "metadata": {
    "collapsed": true
   },
   "outputs": [],
   "source": [
    "def continuous_variable_analysis(df, variable_name, threshold=15):\n",
    "    \n",
    "    if len(df[variable_name].unique()) < threshold:\n",
    "        df[variable_name].value_counts().sort_index().plot(kind='bar')\n",
    "        plt.title('{} distribution'.format(variable_name))\n",
    "        \n",
    "        df[[variable_name,'IND_DEFAULT_2']].groupby(df[variable_name]).mean().plot(x=variable_name,y='IND_DEFAULT_2')\n",
    "        plt.title('{} single factor analysis'.format(variable_name))\n",
    "    else:\n",
    "        df[variable_name].hist(bins=threshold)\n",
    "        plt.title('{} distribution'.format(variable_name))\n",
    "        \n",
    "        df['{}_BIN'.format(variable_name)] = pd.qcut(df[variable_name], threshold, duplicates='drop')\n",
    "        df[[variable_name,'IND_DEFAULT_2']].groupby(df['{}_BIN'.format(variable_name)]).mean().plot(x=variable_name,y='IND_DEFAULT_2')        \n",
    "        plt.title('{} single factor analysis'.format(variable_name))"
   ]
  },
  {
   "cell_type": "code",
   "execution_count": null,
   "metadata": {
    "collapsed": true,
    "scrolled": false
   },
   "outputs": [],
   "source": [
    "categorical_variable_analysis(data, 'FIRST_TIME_HOME_BUYER_FLAG')"
   ]
  },
  {
   "cell_type": "code",
   "execution_count": null,
   "metadata": {
    "collapsed": true,
    "scrolled": false
   },
   "outputs": [],
   "source": [
    "categorical_variable_analysis(data, 'PROP_TYPE')"
   ]
  },
  {
   "cell_type": "code",
   "execution_count": null,
   "metadata": {
    "collapsed": true,
    "scrolled": false
   },
   "outputs": [],
   "source": [
    "categorical_variable_analysis(data, 'LOAN_PURPOSE')"
   ]
  },
  {
   "cell_type": "code",
   "execution_count": null,
   "metadata": {
    "collapsed": true,
    "scrolled": false
   },
   "outputs": [],
   "source": [
    "categorical_variable_analysis(data, 'OCCUPANCY_STATUS')"
   ]
  },
  {
   "cell_type": "code",
   "execution_count": null,
   "metadata": {
    "collapsed": true,
    "scrolled": false
   },
   "outputs": [],
   "source": [
    "categorical_variable_analysis(data, 'CHANNEL')"
   ]
  },
  {
   "cell_type": "code",
   "execution_count": null,
   "metadata": {
    "collapsed": true,
    "scrolled": false
   },
   "outputs": [],
   "source": [
    "categorical_variable_analysis(data, 'SUPER_CONFORMING_FLAG')"
   ]
  },
  {
   "cell_type": "code",
   "execution_count": null,
   "metadata": {
    "collapsed": true,
    "scrolled": false
   },
   "outputs": [],
   "source": [
    "continuous_variable_analysis(data, 'FICO')"
   ]
  },
  {
   "cell_type": "code",
   "execution_count": null,
   "metadata": {
    "collapsed": true,
    "scrolled": false
   },
   "outputs": [],
   "source": [
    "continuous_variable_analysis(data, 'MORTGAGE_INSURANCE_PCT')"
   ]
  },
  {
   "cell_type": "code",
   "execution_count": null,
   "metadata": {
    "collapsed": true,
    "scrolled": false
   },
   "outputs": [],
   "source": [
    "continuous_variable_analysis(data, 'NUM_OF_UNITS')"
   ]
  },
  {
   "cell_type": "code",
   "execution_count": null,
   "metadata": {
    "collapsed": true,
    "scrolled": false
   },
   "outputs": [],
   "source": [
    "continuous_variable_analysis(data, 'ORGN_CLTV')"
   ]
  },
  {
   "cell_type": "code",
   "execution_count": null,
   "metadata": {
    "collapsed": true,
    "scrolled": false
   },
   "outputs": [],
   "source": [
    "continuous_variable_analysis(data, 'ORGN_LTV')"
   ]
  },
  {
   "cell_type": "code",
   "execution_count": null,
   "metadata": {
    "collapsed": true,
    "scrolled": false
   },
   "outputs": [],
   "source": [
    "continuous_variable_analysis(data, 'LOG_LOAN_SIZE')"
   ]
  },
  {
   "cell_type": "code",
   "execution_count": null,
   "metadata": {
    "collapsed": true,
    "scrolled": false
   },
   "outputs": [],
   "source": [
    "continuous_variable_analysis(data, 'HPI_DOWN_CHG')"
   ]
  },
  {
   "cell_type": "code",
   "execution_count": null,
   "metadata": {
    "collapsed": true,
    "scrolled": false
   },
   "outputs": [],
   "source": [
    "continuous_variable_analysis(data, 'CLTV_HIGHEST')"
   ]
  },
  {
   "cell_type": "code",
   "execution_count": null,
   "metadata": {
    "collapsed": true,
    "scrolled": false
   },
   "outputs": [],
   "source": [
    "continuous_variable_analysis(data, 'NUM_OF_BORROWERS')"
   ]
  },
  {
   "cell_type": "code",
   "execution_count": null,
   "metadata": {
    "collapsed": true
   },
   "outputs": [],
   "source": [
    "continuous_variables = ['FICO','MORTGAGE_INSURANCE_PCT','NUM_OF_UNITS','ORGN_CLTV','ORGN_LTV','LOG_LOAN_SIZE','HPI_DOWN_CHG','NUM_OF_BORROWERS']\n",
    "data[continuous_variables].corr().to_csv(\"correlation_matrix.csv\")\n",
    "data[continuous_variables].corr()"
   ]
  },
  {
   "cell_type": "markdown",
   "metadata": {},
   "source": [
    "## Data Modification and Input Generation"
   ]
  },
  {
   "cell_type": "code",
   "execution_count": null,
   "metadata": {
    "collapsed": true
   },
   "outputs": [],
   "source": [
    "data['NUM_OF_UNITS_SHRINK'] = np.fmin(data.NUM_OF_UNITS, 2)\n",
    "data['FICO'] = np.clip(data.FICO, 600, 820)"
   ]
  },
  {
   "cell_type": "code",
   "execution_count": null,
   "metadata": {
    "collapsed": true
   },
   "outputs": [],
   "source": [
    "continuous_variables = ['FICO','MORTGAGE_INSURANCE_PCT','NUM_OF_UNITS_SHRINK','ORGN_CLTV','LOG_LOAN_SIZE','HPI_DOWN_CHG','NUM_OF_BORROWERS']\n",
    "categorical_variables = ['FIRST_TIME_HOME_BUYER_FLAG','PROP_TYPE','LOAN_PURPOSE', 'OCCUPANCY_STATUS', 'CHANNEL', 'SUPER_CONFORMING_FLAG']"
   ]
  },
  {
   "cell_type": "code",
   "execution_count": null,
   "metadata": {
    "collapsed": true
   },
   "outputs": [],
   "source": [
    "dummies_list = []\n",
    "for variable in categorical_variables:\n",
    "    dummies_list.append(pd.get_dummies(data[variable],prefix=variable,drop_first=True))\n",
    "    \n",
    "input_data = pd.concat([data[continuous_variables]] + dummies_list, axis=1)\n",
    "\n",
    "X = input_data.values\n",
    "Y = data.IND_DEFAULT_2.values\n",
    "factor_names = input_data.columns\n",
    "\n",
    "X_train, X_test, y_train, y_test = train_test_split(X, Y, test_size=0.2, random_state=0)\n",
    "\n",
    "scaler = preprocessing.StandardScaler().fit(X_train)\n",
    "X_train = scaler.transform(X_train)\n",
    "X_test = scaler.transform(X_test)"
   ]
  },
  {
   "cell_type": "markdown",
   "metadata": {},
   "source": [
    "## Test Function"
   ]
  },
  {
   "cell_type": "markdown",
   "metadata": {},
   "source": [
    "### KS-test"
   ]
  },
  {
   "cell_type": "code",
   "execution_count": null,
   "metadata": {
    "collapsed": true
   },
   "outputs": [],
   "source": [
    "def ks_test(mdl_prob, act_ind):\n",
    "    sorted_arg = np.argsort(mdl_prob)\n",
    "    mdl_prob = mdl_prob[sorted_arg]\n",
    "    act_ind = act_ind[sorted_arg]\n",
    "    cum_default_rate = np.cumsum(act_ind)/np.sum(act_ind)\n",
    "    cum_nondefault_rate = np.cumsum(1-act_ind)/np.sum(1-act_ind)\n",
    "    max_diff = np.max(np.abs(cum_default_rate - cum_nondefault_rate))\n",
    "    pd.DataFrame(np.vstack((cum_default_rate, cum_nondefault_rate)).T, columns=['default','non-default']).plot()\n",
    "    print('KS stat is {}'.format(max_diff))"
   ]
  },
  {
   "cell_type": "markdown",
   "metadata": {},
   "source": [
    "### Default rate Emp vs Act test"
   ]
  },
  {
   "cell_type": "code",
   "execution_count": null,
   "metadata": {
    "collapsed": true
   },
   "outputs": [],
   "source": [
    "def emp_vs_act_test(mdl_prob, act_ind):\n",
    "    sorted_arg = np.argsort(mdl_prob)\n",
    "    mdl_prob = mdl_prob[sorted_arg]\n",
    "    act_ind = act_ind[sorted_arg]\n",
    "    max_prob = mdl_prob[-1]\n",
    "    prob_range = np.linspace(0,max_prob,1001)\n",
    "    mask = mdl_prob >= prob_range[:,np.newaxis]\n",
    "    loan_count = mask.sum(axis=1)\n",
    "    mdl_default_rate = (mdl_prob * mask).sum(axis=1)/loan_count\n",
    "    act_default_rate = (act_ind * mask).sum(axis=1)/loan_count\n",
    "    cmp = pd.DataFrame(np.vstack((mdl_default_rate, act_default_rate, loan_count)).T, columns=['mdl','act','loan_count'], index=prob_range)\n",
    "    cmp.plot(secondary_y='loan_count')"
   ]
  },
  {
   "cell_type": "markdown",
   "metadata": {},
   "source": [
    "## Variable Selection by GBM"
   ]
  },
  {
   "cell_type": "markdown",
   "metadata": {},
   "source": [
    "#### Depth 1"
   ]
  },
  {
   "cell_type": "code",
   "execution_count": null,
   "metadata": {
    "collapsed": true
   },
   "outputs": [],
   "source": [
    "params = {'n_estimators': 500, 'max_depth': 1, 'min_samples_split': 500,\n",
    "          'learning_rate': 0.01, 'loss': 'deviance'}\n",
    "clf = ensemble.GradientBoostingClassifier(**params)\n",
    "\n",
    "clf.fit(X_train, y_train)"
   ]
  },
  {
   "cell_type": "code",
   "execution_count": null,
   "metadata": {
    "collapsed": true
   },
   "outputs": [],
   "source": [
    "feature_importance = clf.feature_importances_\n",
    "feature_importance = 100.0 * (feature_importance / feature_importance.max())\n",
    "sorted_idx = np.argsort(feature_importance)\n",
    "fig, axe = plt.subplots(1,1,figsize=(8,10))\n",
    "pos = np.arange(sorted_idx.shape[0]) + .5\n",
    "plt.barh(pos, feature_importance[sorted_idx], align='center')\n",
    "plt.yticks(pos, factor_names[sorted_idx])\n",
    "plt.xlabel('Relative Importance')\n",
    "plt.title('Variable Importance')"
   ]
  },
  {
   "cell_type": "code",
   "execution_count": null,
   "metadata": {
    "collapsed": true
   },
   "outputs": [],
   "source": [
    "test_prob_gbm = clf.predict_proba(X_test)[:,1]\n",
    "fpr_test_gbm, tpr_test_gbm, threshold_test_gbm = roc_curve(y_test, test_prob_gbm)\n",
    "\n",
    "plt.plot([0, 1], [0, 1], 'k--')\n",
    "plt.plot(fpr_test_gbm, tpr_test_gbm)\n",
    "plt.title('Gradient Boosting ROC Curve')\n",
    "print('AUC is {}'.format(roc_auc_score(y_test, test_prob_gbm)))"
   ]
  },
  {
   "cell_type": "code",
   "execution_count": null,
   "metadata": {
    "collapsed": true
   },
   "outputs": [],
   "source": [
    "ks_test(test_prob_gbm, y_test)\n",
    "plt.title('Gradient Boosting KS test');"
   ]
  },
  {
   "cell_type": "markdown",
   "metadata": {},
   "source": [
    "#### Depth 2"
   ]
  },
  {
   "cell_type": "code",
   "execution_count": null,
   "metadata": {
    "collapsed": true
   },
   "outputs": [],
   "source": [
    "params = {'n_estimators': 500, 'max_depth': 2, 'min_samples_split': 500,\n",
    "          'learning_rate': 0.01, 'loss': 'deviance'}\n",
    "clf = ensemble.GradientBoostingClassifier(**params)\n",
    "\n",
    "clf.fit(X_train, y_train)"
   ]
  },
  {
   "cell_type": "code",
   "execution_count": null,
   "metadata": {
    "collapsed": true
   },
   "outputs": [],
   "source": [
    "feature_importance = clf.feature_importances_\n",
    "feature_importance = 100.0 * (feature_importance / feature_importance.max())\n",
    "sorted_idx = np.argsort(feature_importance)\n",
    "fig, axe = plt.subplots(1,1,figsize=(8,10))\n",
    "pos = np.arange(sorted_idx.shape[0]) + .5\n",
    "plt.barh(pos, feature_importance[sorted_idx], align='center')\n",
    "plt.yticks(pos, factor_names[sorted_idx])\n",
    "plt.xlabel('Relative Importance')\n",
    "plt.title('Variable Importance')"
   ]
  },
  {
   "cell_type": "code",
   "execution_count": null,
   "metadata": {
    "collapsed": true
   },
   "outputs": [],
   "source": [
    "test_prob_gbm = clf.predict_proba(X_test)[:,1]\n",
    "fpr_test_gbm, tpr_test_gbm, threshold_test_gbm = roc_curve(y_test, test_prob_gbm)\n",
    "\n",
    "plt.plot([0, 1], [0, 1], 'k--')\n",
    "plt.plot(fpr_test_gbm, tpr_test_gbm)\n",
    "plt.title('Gradient Boosting Roc Curve')\n",
    "print('AUC is {}'.format(roc_auc_score(y_test, test_prob_gbm)))"
   ]
  },
  {
   "cell_type": "code",
   "execution_count": null,
   "metadata": {
    "collapsed": true
   },
   "outputs": [],
   "source": [
    "ks_test(test_prob_gbm, y_test)\n",
    "plt.title('Gradient Boosting KS test');"
   ]
  },
  {
   "cell_type": "code",
   "execution_count": null,
   "metadata": {
    "collapsed": true
   },
   "outputs": [],
   "source": [
    "emp_vs_act_test(test_prob_gbm, y_test)\n",
    "plt.title('Gradient Boosting Act vs Mdl test')"
   ]
  },
  {
   "cell_type": "markdown",
   "metadata": {},
   "source": [
    "#### Depth 3"
   ]
  },
  {
   "cell_type": "code",
   "execution_count": null,
   "metadata": {
    "collapsed": true
   },
   "outputs": [],
   "source": [
    "params = {'n_estimators': 500, 'max_depth': 3, 'min_samples_split': 500,\n",
    "          'learning_rate': 0.01, 'loss': 'deviance'}\n",
    "clf = ensemble.GradientBoostingClassifier(**params)\n",
    "\n",
    "clf.fit(X_train, y_train)"
   ]
  },
  {
   "cell_type": "code",
   "execution_count": null,
   "metadata": {
    "collapsed": true
   },
   "outputs": [],
   "source": [
    "feature_importance = clf.feature_importances_\n",
    "feature_importance = 100.0 * (feature_importance / feature_importance.max())\n",
    "sorted_idx = np.argsort(feature_importance)\n",
    "fig, axe = plt.subplots(1,1,figsize=(8,10))\n",
    "pos = np.arange(sorted_idx.shape[0]) + .5\n",
    "plt.barh(pos, feature_importance[sorted_idx], align='center')\n",
    "plt.yticks(pos, factor_names[sorted_idx])\n",
    "plt.xlabel('Relative Importance')\n",
    "plt.title('Variable Importance')"
   ]
  },
  {
   "cell_type": "code",
   "execution_count": null,
   "metadata": {
    "collapsed": true
   },
   "outputs": [],
   "source": [
    "test_prob_gbm = clf.predict_proba(X_test)[:,1]\n",
    "fpr_test_gbm, tpr_test_gbm, threshold_test_gbm = roc_curve(y_test, test_prob_gbm)\n",
    "\n",
    "plt.plot([0, 1], [0, 1], 'k--')\n",
    "plt.plot(fpr_test_gbm, tpr_test_gbm)\n",
    "plt.title('Gradient Boosting Roc Curve')\n",
    "print('AUC is {}'.format(roc_auc_score(y_test, test_prob_gbm)))"
   ]
  },
  {
   "cell_type": "code",
   "execution_count": null,
   "metadata": {
    "collapsed": true
   },
   "outputs": [],
   "source": [
    "ks_test(test_prob_gbm, y_test)\n",
    "plt.title('Gradient Boosting KS test');"
   ]
  },
  {
   "cell_type": "code",
   "execution_count": null,
   "metadata": {
    "collapsed": true
   },
   "outputs": [],
   "source": [
    "emp_vs_act_test(test_prob_gbm, y_test)\n",
    "plt.title('Gradient Boosting Act vs Mdl test')"
   ]
  },
  {
   "cell_type": "markdown",
   "metadata": {},
   "source": [
    "## Input Regeneration"
   ]
  },
  {
   "cell_type": "code",
   "execution_count": null,
   "metadata": {
    "collapsed": true
   },
   "outputs": [],
   "source": [
    "data.loc[data.PROP_TYPE != 'PU', 'PROP_TYPE'] = 'OTH'"
   ]
  },
  {
   "cell_type": "code",
   "execution_count": null,
   "metadata": {
    "collapsed": true
   },
   "outputs": [],
   "source": [
    "continuous_variables = ['FICO','MORTGAGE_INSURANCE_PCT','ORGN_CLTV','LOG_LOAN_SIZE','HPI_DOWN_CHG','NUM_OF_BORROWERS']\n",
    "categorical_variables = ['PROP_TYPE','LOAN_PURPOSE']"
   ]
  },
  {
   "cell_type": "code",
   "execution_count": null,
   "metadata": {
    "collapsed": true
   },
   "outputs": [],
   "source": [
    "dummies_list = []\n",
    "for variable in categorical_variables:\n",
    "    dummies_list.append(pd.get_dummies(data[variable],prefix=variable,drop_first=True))\n",
    "    \n",
    "input_data = pd.concat([data[continuous_variables]] + dummies_list, axis=1)\n",
    "factor_names = input_data.columns\n",
    "\n",
    "# Split on dataframe instead of numpy array is for backtesting convenience\n",
    "train_df, test_df, train_y, test_y = train_test_split(input_data, data.IND_DEFAULT_2, test_size=0.2, random_state=0)\n",
    "X_train = train_df.values\n",
    "X_test = test_df.values\n",
    "y_train = train_y.values\n",
    "y_test = test_y.values\n",
    "\n",
    "scaler = preprocessing.StandardScaler().fit(X_train)\n",
    "X_train = scaler.transform(X_train)\n",
    "X_test = scaler.transform(X_test)"
   ]
  },
  {
   "cell_type": "markdown",
   "metadata": {},
   "source": [
    "## Model Selection"
   ]
  },
  {
   "cell_type": "markdown",
   "metadata": {},
   "source": [
    "### Logistic Regression"
   ]
  },
  {
   "cell_type": "markdown",
   "metadata": {},
   "source": [
    "#### Vanilla Model"
   ]
  },
  {
   "cell_type": "code",
   "execution_count": null,
   "metadata": {
    "collapsed": true
   },
   "outputs": [],
   "source": [
    "logistic_model = linear_model.LogisticRegression(penalty='l1', C=1e5)"
   ]
  },
  {
   "cell_type": "code",
   "execution_count": null,
   "metadata": {},
   "outputs": [],
   "source": [
    "logistic_model.fit(X_train, y_train)"
   ]
  },
  {
   "cell_type": "code",
   "execution_count": null,
   "metadata": {},
   "outputs": [],
   "source": [
    "coef = logistic_model.coef_[0].tolist()\n",
    "coef.append(logistic_model.intercept_[0])\n",
    "pd.DataFrame(coef, index=factor_names.tolist()+['INTERCEPT'], columns=['Parameter'])"
   ]
  },
  {
   "cell_type": "code",
   "execution_count": null,
   "metadata": {},
   "outputs": [],
   "source": [
    "train_prob_lm = logistic_model.predict_proba(X_train)[:,1]\n",
    "test_prob_lm = logistic_model.predict_proba(X_test)[:,1]\n",
    "\n",
    "fpr_train_lm, tpr_train_lm, threshold_train_lm = roc_curve(y_train, train_prob_lm)\n",
    "fpr_test_lm, tpr_test_lm, threshold_test_lm = roc_curve(y_test, test_prob_lm)\n",
    "\n",
    "plt.plot([0, 1], [0, 1], 'k--')\n",
    "plt.plot(fpr_test_lm, tpr_test_lm)\n",
    "plt.title('Logistic Regression Roc Curve')\n",
    "print('AUC is {}'.format(roc_auc_score(y_test, test_prob_lm)))"
   ]
  },
  {
   "cell_type": "code",
   "execution_count": null,
   "metadata": {},
   "outputs": [],
   "source": [
    "ks_test(test_prob_lm, y_test)\n",
    "plt.title('Logistic Regression KS test');"
   ]
  },
  {
   "cell_type": "code",
   "execution_count": null,
   "metadata": {
    "scrolled": true
   },
   "outputs": [],
   "source": [
    "emp_vs_act_test(test_prob_lm, y_test)\n",
    "plt.title('Logistic Regression Act vs Mdl test')"
   ]
  },
  {
   "cell_type": "markdown",
   "metadata": {},
   "source": [
    "##### Visualization data generation"
   ]
  },
  {
   "cell_type": "code",
   "execution_count": null,
   "metadata": {
    "collapsed": true
   },
   "outputs": [],
   "source": [
    "visualization_data = test_df.copy()\n",
    "visualization_data.drop(['PROP_TYPE_PU','LOAN_PURPOSE_N','LOAN_PURPOSE_P'],inplace=True,axis=1)\n",
    "visualization_data = visualization_data.join(data[['FIRST_TIME_HOME_BUYER_FLAG','PROP_TYPE','LOAN_PURPOSE','CHANNEL','NUM_OF_UNITS','OCCUPANCY_STATUS','PROP_STATE','LOAN_PURPOSE','SUPER_CONFORMING_FLAG']],how='left')\n",
    "visualization_data['ACT'] = test_y\n",
    "visualization_data['MDL'] = test_prob_lm\n",
    "visualization_data.to_csv('LM_1_VISUAL.csv')"
   ]
  },
  {
   "cell_type": "markdown",
   "metadata": {},
   "source": [
    "#### Rare Event Model"
   ]
  },
  {
   "cell_type": "code",
   "execution_count": null,
   "metadata": {
    "collapsed": true
   },
   "outputs": [],
   "source": [
    "default_mask = (y_train == 1)\n",
    "rare_X_train_part_1 = X_train[default_mask]\n",
    "rare_y_train_part_1 = y_train[default_mask]\n",
    "dump1, rare_X_train_part_2, dump2, rare_y_train_part_2 = train_test_split(X_train[(~default_mask),],y_train[~default_mask], test_size=0.005)\n",
    "rare_X_train = np.vstack((rare_X_train_part_1, rare_X_train_part_2))\n",
    "rare_y_train = np.concatenate((rare_y_train_part_1, rare_y_train_part_2))\n",
    "\n",
    "y_bar = y_train.mean()\n",
    "tau = rare_y_train.mean()\n",
    "intercept_bias_adjustment = np.log((1-tau)/tau*y_bar/(1-y_bar))"
   ]
  },
  {
   "cell_type": "code",
   "execution_count": null,
   "metadata": {},
   "outputs": [],
   "source": [
    "logistic_model.fit(rare_X_train, rare_y_train)"
   ]
  },
  {
   "cell_type": "code",
   "execution_count": null,
   "metadata": {},
   "outputs": [],
   "source": [
    "coef = logistic_model.coef_[0].tolist()\n",
    "intercept = logistic_model.intercept_[0]+intercept_bias_adjustment\n",
    "coef.append(intercept)\n",
    "pd.DataFrame(coef, index=factor_names.tolist()+['INTERCEPT'], columns=['Parameter'])"
   ]
  },
  {
   "cell_type": "code",
   "execution_count": null,
   "metadata": {},
   "outputs": [],
   "source": [
    "lp = (X_test * logistic_model.coef_).sum(axis=1) + intercept\n",
    "test_prob_lm = 1/(1+np.exp(-lp))\n",
    "fpr_test_lm, tpr_test_lm, threshold_test_lm = roc_curve(y_test, test_prob_lm)\n",
    "\n",
    "plt.plot([0, 1], [0, 1], 'k--')\n",
    "plt.plot(fpr_test_lm, tpr_test_lm)\n",
    "plt.title('Logistic Regression Roc Curve')\n",
    "print('AUC is {}'.format(roc_auc_score(y_test, test_prob_lm)))"
   ]
  },
  {
   "cell_type": "code",
   "execution_count": null,
   "metadata": {},
   "outputs": [],
   "source": [
    "ks_test(test_prob_lm, y_test)\n",
    "plt.title('Logistic Regression KS test');"
   ]
  },
  {
   "cell_type": "code",
   "execution_count": null,
   "metadata": {
    "scrolled": true
   },
   "outputs": [],
   "source": [
    "emp_vs_act_test(test_prob_lm, y_test)\n",
    "plt.title('Logistic Regression Act vs Mdl test')"
   ]
  },
  {
   "cell_type": "markdown",
   "metadata": {},
   "source": [
    "### Gradient Boosting"
   ]
  },
  {
   "cell_type": "markdown",
   "metadata": {},
   "source": [
    "#### Depth 2; Estimator 1000; Learning rate 0.01; Min sample 200"
   ]
  },
  {
   "cell_type": "code",
   "execution_count": null,
   "metadata": {},
   "outputs": [],
   "source": [
    "params = {'n_estimators': 1000, 'max_depth': 2, 'min_samples_split': 200,\n",
    "          'learning_rate': 0.01, 'loss': 'deviance'}\n",
    "clf = ensemble.GradientBoostingClassifier(**params)\n",
    "\n",
    "clf.fit(X_train, y_train)"
   ]
  },
  {
   "cell_type": "code",
   "execution_count": null,
   "metadata": {},
   "outputs": [],
   "source": [
    "test_prob_gbm = clf.predict_proba(X_test)[:,1]\n",
    "fpr_test_gbm, tpr_test_gbm, threshold_test_gbm = roc_curve(y_test, test_prob_gbm)\n",
    "\n",
    "plt.plot([0, 1], [0, 1], 'k--')\n",
    "plt.plot(fpr_test_gbm, tpr_test_gbm)\n",
    "plt.title('Gradient Boosting Roc Curve')\n",
    "print('AUC is {}'.format(roc_auc_score(y_test, test_prob_gbm)))"
   ]
  },
  {
   "cell_type": "code",
   "execution_count": null,
   "metadata": {},
   "outputs": [],
   "source": [
    "ks_test(test_prob_gbm, y_test)\n",
    "plt.title('Gradient Boosting KS test');"
   ]
  },
  {
   "cell_type": "code",
   "execution_count": null,
   "metadata": {},
   "outputs": [],
   "source": [
    "emp_vs_act_test(test_prob_gbm, y_test)\n",
    "plt.title('Gradient Boosting Act vs Mdl test');"
   ]
  },
  {
   "cell_type": "markdown",
   "metadata": {},
   "source": [
    "##### Visualization data generation"
   ]
  },
  {
   "cell_type": "code",
   "execution_count": null,
   "metadata": {
    "collapsed": true
   },
   "outputs": [],
   "source": [
    "visualization_data = test_df.copy()\n",
    "visualization_data.drop(['PROP_TYPE_PU','LOAN_PURPOSE_N','LOAN_PURPOSE_P'],inplace=True,axis=1)\n",
    "visualization_data = visualization_data.join(data[['FIRST_TIME_HOME_BUYER_FLAG','PROP_TYPE','LOAN_PURPOSE','CHANNEL','NUM_OF_UNITS','OCCUPANCY_STATUS','PROP_STATE','LOAN_PURPOSE','SUPER_CONFORMING_FLAG']],how='left')\n",
    "visualization_data['ACT'] = test_y\n",
    "visualization_data['MDL'] = test_prob_gbm\n",
    "visualization_data.to_csv('GBM_1_VISUAL.csv')"
   ]
  },
  {
   "cell_type": "markdown",
   "metadata": {},
   "source": [
    "#### Depth 2; Estimator 1000; Learning rate 0.05; Min sample 200"
   ]
  },
  {
   "cell_type": "code",
   "execution_count": null,
   "metadata": {},
   "outputs": [],
   "source": [
    "params = {'n_estimators': 1000, 'max_depth': 2, 'min_samples_split': 200,\n",
    "          'learning_rate': 0.05, 'loss': 'deviance'}\n",
    "clf = ensemble.GradientBoostingClassifier(**params)\n",
    "\n",
    "clf.fit(X_train, y_train)"
   ]
  },
  {
   "cell_type": "code",
   "execution_count": null,
   "metadata": {},
   "outputs": [],
   "source": [
    "test_prob_gbm = clf.predict_proba(X_test)[:,1]\n",
    "fpr_test_gbm, tpr_test_gbm, threshold_test_gbm = roc_curve(y_test, test_prob_gbm)\n",
    "\n",
    "plt.plot([0, 1], [0, 1], 'k--')\n",
    "plt.plot(fpr_test_gbm, tpr_test_gbm)\n",
    "plt.title('Gradient Boosting Roc Curve')\n",
    "print('AUC is {}'.format(roc_auc_score(y_test, test_prob_gbm)))"
   ]
  },
  {
   "cell_type": "code",
   "execution_count": null,
   "metadata": {},
   "outputs": [],
   "source": [
    "ks_test(test_prob_gbm, y_test)\n",
    "plt.title('Gradient Boosting KS test');"
   ]
  },
  {
   "cell_type": "code",
   "execution_count": null,
   "metadata": {},
   "outputs": [],
   "source": [
    "emp_vs_act_test(test_prob_gbm, y_test)\n",
    "plt.title('Gradient Boosting Act vs Mdl test');"
   ]
  },
  {
   "cell_type": "markdown",
   "metadata": {},
   "source": [
    "##### Visualization data generation"
   ]
  },
  {
   "cell_type": "code",
   "execution_count": null,
   "metadata": {
    "collapsed": true
   },
   "outputs": [],
   "source": [
    "visualization_data = test_df.copy()\n",
    "visualization_data.drop(['PROP_TYPE_PU','LOAN_PURPOSE_N','LOAN_PURPOSE_P'],inplace=True,axis=1)\n",
    "visualization_data = visualization_data.join(data[['FIRST_TIME_HOME_BUYER_FLAG','PROP_TYPE','LOAN_PURPOSE','CHANNEL','NUM_OF_UNITS','OCCUPANCY_STATUS','PROP_STATE','LOAN_PURPOSE','SUPER_CONFORMING_FLAG']],how='left')\n",
    "visualization_data['ACT'] = test_y\n",
    "visualization_data['MDL'] = test_prob_lm\n",
    "visualization_data.to_csv('GBM_2_VISUAL.csv')"
   ]
  },
  {
   "cell_type": "markdown",
   "metadata": {},
   "source": [
    "#### Depth 2; Estimator 1000; Learning rate 0.01; Min sample 100"
   ]
  },
  {
   "cell_type": "code",
   "execution_count": null,
   "metadata": {},
   "outputs": [],
   "source": [
    "params = {'n_estimators': 1000, 'max_depth': 2, 'min_samples_split': 100,\n",
    "          'learning_rate': 0.01, 'loss': 'deviance'}\n",
    "clf = ensemble.GradientBoostingClassifier(**params)\n",
    "\n",
    "clf.fit(X_train, y_train)"
   ]
  },
  {
   "cell_type": "code",
   "execution_count": null,
   "metadata": {},
   "outputs": [],
   "source": [
    "test_prob_gbm = clf.predict_proba(X_test)[:,1]\n",
    "fpr_test_gbm, tpr_test_gbm, threshold_test_gbm = roc_curve(y_test, test_prob_gbm)\n",
    "\n",
    "plt.plot([0, 1], [0, 1], 'k--')\n",
    "plt.plot(fpr_test_gbm, tpr_test_gbm)\n",
    "plt.title('Gradient Boosting Roc Curve')\n",
    "print('AUC is {}'.format(roc_auc_score(y_test, test_prob_gbm)))"
   ]
  },
  {
   "cell_type": "code",
   "execution_count": null,
   "metadata": {},
   "outputs": [],
   "source": [
    "ks_test(test_prob_gbm, y_test)\n",
    "plt.title('Gradient Boosting KS test');"
   ]
  },
  {
   "cell_type": "code",
   "execution_count": null,
   "metadata": {},
   "outputs": [],
   "source": [
    "emp_vs_act_test(test_prob_gbm, y_test)\n",
    "plt.title('Gradient Boosting Act vs Mdl test');"
   ]
  },
  {
   "cell_type": "markdown",
   "metadata": {},
   "source": [
    "##### Visualization data generation"
   ]
  },
  {
   "cell_type": "code",
   "execution_count": null,
   "metadata": {
    "collapsed": true
   },
   "outputs": [],
   "source": [
    "visualization_data = test_df.copy()\n",
    "visualization_data.drop(['PROP_TYPE_PU','LOAN_PURPOSE_N','LOAN_PURPOSE_P'],inplace=True,axis=1)\n",
    "visualization_data = visualization_data.join(data[['FIRST_TIME_HOME_BUYER_FLAG','PROP_TYPE','LOAN_PURPOSE','CHANNEL','NUM_OF_UNITS','OCCUPANCY_STATUS','PROP_STATE','LOAN_PURPOSE','SUPER_CONFORMING_FLAG']],how='left')\n",
    "visualization_data['ACT'] = test_y\n",
    "visualization_data['MDL'] = test_prob_lm\n",
    "visualization_data.to_csv('GBM_3_VISUAL.csv')"
   ]
  },
  {
   "cell_type": "markdown",
   "metadata": {},
   "source": [
    "### Neural network"
   ]
  },
  {
   "cell_type": "code",
   "execution_count": null,
   "metadata": {
    "collapsed": true
   },
   "outputs": [],
   "source": [
    "from sklearn.neural_network import MLPClassifier"
   ]
  },
  {
   "cell_type": "markdown",
   "metadata": {},
   "source": [
    "#### Layer 4 (8,6,4,2)"
   ]
  },
  {
   "cell_type": "code",
   "execution_count": null,
   "metadata": {},
   "outputs": [],
   "source": [
    "clf = MLPClassifier(solver='adam', alpha=1e-5, hidden_layer_sizes=(8,6,4,2), random_state=1)\n",
    "clf.fit(X_train, y_train)"
   ]
  },
  {
   "cell_type": "code",
   "execution_count": null,
   "metadata": {},
   "outputs": [],
   "source": [
    "test_prob_nn = clf.predict_proba(X_test)[:,1]\n",
    "fpr_test_nn, tpr_test_nn, threshold_test_nn = roc_curve(y_test, test_prob_nn)\n",
    "\n",
    "plt.plot([0, 1], [0, 1], 'k--')\n",
    "plt.plot(fpr_test_nn, tpr_test_nn)\n",
    "plt.title('Neural Networks Roc Curve')\n",
    "print('AUC is {}'.format(roc_auc_score(y_test, test_prob_nn)))"
   ]
  },
  {
   "cell_type": "code",
   "execution_count": null,
   "metadata": {},
   "outputs": [],
   "source": [
    "ks_test(test_prob_nn, y_test)\n",
    "plt.title('Neural Networks KS test');"
   ]
  },
  {
   "cell_type": "code",
   "execution_count": null,
   "metadata": {},
   "outputs": [],
   "source": [
    "emp_vs_act_test(test_prob_nn, y_test)\n",
    "plt.title('Neural Networks Act vs Mdl test');"
   ]
  },
  {
   "cell_type": "markdown",
   "metadata": {},
   "source": [
    "#### Layer 3 (7,5,3)"
   ]
  },
  {
   "cell_type": "code",
   "execution_count": null,
   "metadata": {},
   "outputs": [],
   "source": [
    "clf = MLPClassifier(solver='adam', alpha=1e-5, hidden_layer_sizes=(7, 5, 3), random_state=1)\n",
    "clf.fit(X_train, y_train)"
   ]
  },
  {
   "cell_type": "code",
   "execution_count": null,
   "metadata": {},
   "outputs": [],
   "source": [
    "test_prob_nn = clf.predict_proba(X_test)[:,1]\n",
    "fpr_test_nn, tpr_test_nn, threshold_test_nn = roc_curve(y_test, test_prob_nn)\n",
    "\n",
    "plt.plot([0, 1], [0, 1], 'k--')\n",
    "plt.plot(fpr_test_nn, tpr_test_nn)\n",
    "plt.title('Neural Networks Roc Curve')\n",
    "print('AUC is {}'.format(roc_auc_score(y_test, test_prob_nn)))"
   ]
  },
  {
   "cell_type": "code",
   "execution_count": null,
   "metadata": {},
   "outputs": [],
   "source": [
    "ks_test(test_prob_nn, y_test)\n",
    "plt.title('Neural Networks KS test');"
   ]
  },
  {
   "cell_type": "code",
   "execution_count": null,
   "metadata": {},
   "outputs": [],
   "source": [
    "emp_vs_act_test(test_prob_nn, y_test)\n",
    "plt.title('Neural Networks Act vs Mdl test');"
   ]
  },
  {
   "cell_type": "markdown",
   "metadata": {},
   "source": [
    "#### Layer 3 (8,6,4)"
   ]
  },
  {
   "cell_type": "code",
   "execution_count": null,
   "metadata": {},
   "outputs": [],
   "source": [
    "clf = MLPClassifier(solver='adam', alpha=1e-5, hidden_layer_sizes=(8,6,4),random_state=1)\n",
    "clf.fit(X_train, y_train)"
   ]
  },
  {
   "cell_type": "code",
   "execution_count": null,
   "metadata": {},
   "outputs": [],
   "source": [
    "test_prob_nn = clf.predict_proba(X_test)[:,1]\n",
    "fpr_test_nn, tpr_test_nn, threshold_test_nn = roc_curve(y_test, test_prob_nn)\n",
    "\n",
    "plt.plot([0, 1], [0, 1], 'k--')\n",
    "plt.plot(fpr_test_nn, tpr_test_nn)\n",
    "plt.title('Neural Networks Roc Curve')\n",
    "print('AUC is {}'.format(roc_auc_score(y_test, test_prob_nn)))"
   ]
  },
  {
   "cell_type": "code",
   "execution_count": null,
   "metadata": {},
   "outputs": [],
   "source": [
    "ks_test(test_prob_nn, y_test)\n",
    "plt.title('Neural Networks KS test');"
   ]
  },
  {
   "cell_type": "code",
   "execution_count": null,
   "metadata": {},
   "outputs": [],
   "source": [
    "emp_vs_act_test(test_prob_nn, y_test)\n",
    "plt.title('Neural Networks Act vs Mdl test');"
   ]
  },
  {
   "cell_type": "markdown",
   "metadata": {},
   "source": [
    "#### Layer 3 (6, 4, 2)"
   ]
  },
  {
   "cell_type": "code",
   "execution_count": null,
   "metadata": {},
   "outputs": [],
   "source": [
    "clf = MLPClassifier(solver='adam', alpha=1e-5, hidden_layer_sizes=(6,4,2))\n",
    "clf.fit(X_train, y_train)"
   ]
  },
  {
   "cell_type": "code",
   "execution_count": null,
   "metadata": {},
   "outputs": [],
   "source": [
    "test_prob_nn = clf.predict_proba(X_test)[:,1]\n",
    "fpr_test_nn, tpr_test_nn, threshold_test_nn = roc_curve(y_test, test_prob_nn)\n",
    "\n",
    "plt.plot([0, 1], [0, 1], 'k--')\n",
    "plt.plot(fpr_test_nn, tpr_test_nn)\n",
    "plt.title('Neural Networks Roc Curve')\n",
    "print('AUC is {}'.format(roc_auc_score(y_test, test_prob_nn)))"
   ]
  },
  {
   "cell_type": "code",
   "execution_count": null,
   "metadata": {},
   "outputs": [],
   "source": [
    "ks_test(test_prob_nn, y_test)\n",
    "plt.title('Neural Networks KS test');"
   ]
  },
  {
   "cell_type": "code",
   "execution_count": null,
   "metadata": {},
   "outputs": [],
   "source": [
    "emp_vs_act_test(test_prob_nn, y_test)\n",
    "plt.title('Neural Networks Act vs Mdl test');"
   ]
  },
  {
   "cell_type": "markdown",
   "metadata": {},
   "source": [
    "#### Layer 2 (6,3)"
   ]
  },
  {
   "cell_type": "code",
   "execution_count": null,
   "metadata": {},
   "outputs": [],
   "source": [
    "clf = MLPClassifier(solver='adam', alpha=1e-5, hidden_layer_sizes=(6,3), random_state=1)\n",
    "clf.fit(X_train, y_train)"
   ]
  },
  {
   "cell_type": "code",
   "execution_count": null,
   "metadata": {},
   "outputs": [],
   "source": [
    "test_prob_nn = clf.predict_proba(X_test)[:,1]\n",
    "fpr_test_nn, tpr_test_nn, threshold_test_nn = roc_curve(y_test, test_prob_nn)\n",
    "\n",
    "plt.plot([0, 1], [0, 1], 'k--')\n",
    "plt.plot(fpr_test_nn, tpr_test_nn)\n",
    "plt.title('Neural Networks Roc Curve')\n",
    "print('AUC is {}'.format(roc_auc_score(y_test, test_prob_nn)))"
   ]
  },
  {
   "cell_type": "code",
   "execution_count": null,
   "metadata": {},
   "outputs": [],
   "source": [
    "ks_test(test_prob_nn, y_test)\n",
    "plt.title('Neural Networks KS test');"
   ]
  },
  {
   "cell_type": "code",
   "execution_count": null,
   "metadata": {},
   "outputs": [],
   "source": [
    "emp_vs_act_test(test_prob_nn, y_test)\n",
    "plt.title('Neural Networks Act vs Mdl test');"
   ]
  },
  {
   "cell_type": "markdown",
   "metadata": {},
   "source": [
    "#### Layer 2 (7, 4)"
   ]
  },
  {
   "cell_type": "code",
   "execution_count": null,
   "metadata": {},
   "outputs": [],
   "source": [
    "clf = MLPClassifier(solver='adam', alpha=1e-5, hidden_layer_sizes=(7, 4))\n",
    "clf.fit(X_train, y_train)"
   ]
  },
  {
   "cell_type": "code",
   "execution_count": null,
   "metadata": {},
   "outputs": [],
   "source": [
    "test_prob_nn = clf.predict_proba(X_test)[:,1]\n",
    "fpr_test_nn, tpr_test_nn, threshold_test_nn = roc_curve(y_test, test_prob_nn)\n",
    "\n",
    "plt.plot([0, 1], [0, 1], 'k--')\n",
    "plt.plot(fpr_test_nn, tpr_test_nn)\n",
    "plt.title('Neural Networks Roc Curve')\n",
    "print('AUC is {}'.format(roc_auc_score(y_test, test_prob_nn)))"
   ]
  },
  {
   "cell_type": "code",
   "execution_count": null,
   "metadata": {},
   "outputs": [],
   "source": [
    "ks_test(test_prob_nn, y_test)\n",
    "plt.title('Neural Networks KS test');"
   ]
  },
  {
   "cell_type": "code",
   "execution_count": null,
   "metadata": {},
   "outputs": [],
   "source": [
    "emp_vs_act_test(test_prob_nn, y_test)\n",
    "plt.title('Neural Networks Act vs Mdl test');"
   ]
  },
  {
   "cell_type": "markdown",
   "metadata": {},
   "source": [
    "##### Visualization data generation"
   ]
  },
  {
   "cell_type": "code",
   "execution_count": null,
   "metadata": {
    "collapsed": true
   },
   "outputs": [],
   "source": [
    "test_prob_nn = clf.predict_proba(X_test)[:,1]\n",
    "fpr_test_nn, tpr_test_nn, threshold_test_nn = roc_curve(y_test, test_prob_nn)\n",
    "\n",
    "plt.plot([0, 1], [0, 1], 'k--')\n",
    "plt.plot(fpr_test_nn, tpr_test_nn)\n",
    "plt.title('Neural Networks Roc Curve')\n",
    "print('AUC is {}'.format(roc_auc_score(y_test, test_prob_nn)))"
   ]
  },
  {
   "cell_type": "code",
   "execution_count": null,
   "metadata": {
    "collapsed": true
   },
   "outputs": [],
   "source": [
    "visualization_data = test_df.copy()\n",
    "visualization_data.drop(['PROP_TYPE_PU','LOAN_PURPOSE_N','LOAN_PURPOSE_P'],inplace=True,axis=1)\n",
    "visualization_data = visualization_data.join(data[['FIRST_TIME_HOME_BUYER_FLAG','PROP_TYPE','LOAN_PURPOSE','CHANNEL','NUM_OF_UNITS','OCCUPANCY_STATUS','PROP_STATE','LOAN_PURPOSE','SUPER_CONFORMING_FLAG']],how='left')\n",
    "visualization_data['ACT'] = test_y\n",
    "visualization_data['MDL'] = test_prob_nn\n",
    "visualization_data.to_csv('NN_1_VISUAL.csv')"
   ]
  },
  {
   "cell_type": "markdown",
   "metadata": {},
   "source": [
    "#### Layer 2 (7, 3)"
   ]
  },
  {
   "cell_type": "code",
   "execution_count": null,
   "metadata": {},
   "outputs": [],
   "source": [
    "clf = MLPClassifier(solver='adam', alpha=1e-5, hidden_layer_sizes=(7, 3))\n",
    "clf.fit(X_train, y_train)"
   ]
  },
  {
   "cell_type": "code",
   "execution_count": null,
   "metadata": {},
   "outputs": [],
   "source": [
    "test_prob_nn = clf.predict_proba(X_test)[:,1]\n",
    "fpr_test_nn, tpr_test_nn, threshold_test_nn = roc_curve(y_test, test_prob_nn)\n",
    "\n",
    "plt.plot([0, 1], [0, 1], 'k--')\n",
    "plt.plot(fpr_test_nn, tpr_test_nn)\n",
    "plt.title('Neural Networks Roc Curve')\n",
    "print('AUC is {}'.format(roc_auc_score(y_test, test_prob_nn)))"
   ]
  },
  {
   "cell_type": "code",
   "execution_count": null,
   "metadata": {},
   "outputs": [],
   "source": [
    "ks_test(test_prob_nn, y_test)\n",
    "plt.title('Neural Networks KS test');"
   ]
  },
  {
   "cell_type": "code",
   "execution_count": null,
   "metadata": {},
   "outputs": [],
   "source": [
    "emp_vs_act_test(test_prob_nn, y_test)\n",
    "plt.title('Neural Networks Act vs Mdl test');"
   ]
  },
  {
   "cell_type": "markdown",
   "metadata": {},
   "source": [
    "#### Layer 2 (5, 3)"
   ]
  },
  {
   "cell_type": "code",
   "execution_count": null,
   "metadata": {},
   "outputs": [],
   "source": [
    "clf = MLPClassifier(solver='adam', alpha=1e-5, hidden_layer_sizes=(5, 3))\n",
    "clf.fit(X_train, y_train)"
   ]
  },
  {
   "cell_type": "code",
   "execution_count": null,
   "metadata": {},
   "outputs": [],
   "source": [
    "test_prob_nn = clf.predict_proba(X_test)[:,1]\n",
    "fpr_test_nn, tpr_test_nn, threshold_test_nn = roc_curve(y_test, test_prob_nn)\n",
    "\n",
    "plt.plot([0, 1], [0, 1], 'k--')\n",
    "plt.plot(fpr_test_nn, tpr_test_nn)\n",
    "plt.title('Neural Networks Roc Curve')\n",
    "print('AUC is {}'.format(roc_auc_score(y_test, test_prob_nn)))"
   ]
  },
  {
   "cell_type": "code",
   "execution_count": null,
   "metadata": {},
   "outputs": [],
   "source": [
    "ks_test(test_prob_nn, y_test)\n",
    "plt.title('Neural Networks KS test');"
   ]
  },
  {
   "cell_type": "code",
   "execution_count": null,
   "metadata": {},
   "outputs": [],
   "source": [
    "emp_vs_act_test(test_prob_nn, y_test)\n",
    "plt.title('Neural Networks Act vs Mdl test');"
   ]
  }
 ],
 "metadata": {
  "kernelspec": {
   "display_name": "Python 3",
   "language": "python",
   "name": "python3"
  },
  "language_info": {
   "codemirror_mode": {
    "name": "ipython",
    "version": 3
   },
   "file_extension": ".py",
   "mimetype": "text/x-python",
   "name": "python",
   "nbconvert_exporter": "python",
   "pygments_lexer": "ipython3",
   "version": "3.6.2"
  }
 },
 "nbformat": 4,
 "nbformat_minor": 2
}
