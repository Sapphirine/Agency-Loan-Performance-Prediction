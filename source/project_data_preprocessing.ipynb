{
 "cells": [
  {
   "cell_type": "markdown",
   "metadata": {},
   "source": [
    "# Data process"
   ]
  },
  {
   "cell_type": "code",
   "execution_count": null,
   "metadata": {
    "collapsed": true
   },
   "outputs": [],
   "source": [
    "import numpy as np\n",
    "import pandas as pd\n",
    "import zipfile\n",
    "import datetime\n",
    "import sys\n",
    "import os"
   ]
  },
  {
   "cell_type": "code",
   "execution_count": null,
   "metadata": {
    "collapsed": true
   },
   "outputs": [],
   "source": [
    "data_path = r\"D:\\Dataset\\FreddieMac\\zipped_data\"\n",
    "unzipped_data_path = r\"D:\\Dataset\\FreddieMac\\unzipped_data\""
   ]
  },
  {
   "cell_type": "markdown",
   "metadata": {},
   "source": [
    "## Unzip File (if not done yet)"
   ]
  },
  {
   "cell_type": "code",
   "execution_count": null,
   "metadata": {
    "collapsed": true
   },
   "outputs": [],
   "source": [
    "for file in os.listdir(data_path):\n",
    "    if file.endswith(\".zip\"):\n",
    "        file_name = os.path.join(data_path, file)\n",
    "        with zipfile.ZipFile(file_name, \"r\") as zip_ref:\n",
    "            zip_ref.extractall(unzipped_data_path)        "
   ]
  },
  {
   "cell_type": "markdown",
   "metadata": {},
   "source": [
    "## Time Selection"
   ]
  },
  {
   "cell_type": "code",
   "execution_count": null,
   "metadata": {
    "collapsed": true
   },
   "outputs": [],
   "source": [
    "timestamp = ['Q42009','Q12010','Q22010','Q32010','Q42010','Q12011','Q22011','Q32011','Q42011']"
   ]
  },
  {
   "cell_type": "markdown",
   "metadata": {},
   "source": [
    "## HPI data process"
   ]
  },
  {
   "cell_type": "code",
   "execution_count": null,
   "metadata": {
    "collapsed": true
   },
   "outputs": [],
   "source": [
    "HPI_msa_file = pd.read_csv('D:/Dataset/FreddieMac/HPI_AT_metro.csv',usecols=[1,2,3,4],dtype={'LOCATION':str})\n",
    "HPI_state_file = pd.read_csv('D:/Dataset/FreddieMac/HPI_AT_state.csv')\n",
    "HPI_file = pd.concat([HPI_msa_file, HPI_state_file],axis=0)"
   ]
  },
  {
   "cell_type": "code",
   "execution_count": null,
   "metadata": {
    "collapsed": true
   },
   "outputs": [],
   "source": [
    "available_msa = HPI_msa_file.LOCATION.unique()\n",
    "available_msa_state = HPI_file.LOCATION.unique()"
   ]
  },
  {
   "cell_type": "code",
   "execution_count": null,
   "metadata": {
    "collapsed": true
   },
   "outputs": [],
   "source": [
    "HPI_file = HPI_file[HPI_file.YEAR >= 2004]\n",
    "HPI_file['QUARTER_DATE'] = HPI_file.YEAR.astype(str) + 'Q' + HPI_file.QUARTER.astype(str)\n",
    "HPI_file.drop(['YEAR','QUARTER'],axis=1,inplace=True)\n",
    "HPI_file.set_index(['QUARTER_DATE','LOCATION'],inplace=True)\n",
    "HPI_file.HPI.replace({0:np.nan},inplace=True)"
   ]
  },
  {
   "cell_type": "code",
   "execution_count": null,
   "metadata": {
    "collapsed": true
   },
   "outputs": [],
   "source": [
    "HPI_file.to_csv(\"D:\\Dataset\\FreddieMac\\intermediate_data\\HPI_data.csv\")"
   ]
  },
  {
   "cell_type": "markdown",
   "metadata": {},
   "source": [
    "## Orig Data process"
   ]
  },
  {
   "cell_type": "code",
   "execution_count": null,
   "metadata": {
    "collapsed": true
   },
   "outputs": [],
   "source": [
    "class OrigDataProcessor(object):\n",
    "    \n",
    "    def __init__(self, data):\n",
    "        self.data = data.copy()\n",
    "        self.delete = pd.Series(False, index=data.index)\n",
    "        self.clean_funcs = [x for x in dir(OrigDataProcessor) if x.startswith('_clean')]\n",
    "        \n",
    "    def clean_table(self):\n",
    "        for func in self.clean_funcs:\n",
    "            eval('self.{}()'.format(func))\n",
    "        print(\"{:.1%} rows are deleted\".format(self.delete.sum()/len(self.data)))\n",
    "        self.data = self.data[~self.delete]\n",
    "        \n",
    "    def _clean_01_fico(self):\n",
    "        self.delete = self.delete | self.data.FICO.isnull()\n",
    "        \n",
    "    def _clean_02_first_time_home_buyer_flag(self):\n",
    "        self.data.FIRST_TIME_HOME_BUYER_FLAG.fillna('U', inplace=True)\n",
    "        \n",
    "    def _clean_03_msa(self):\n",
    "        unavailable_msa_mask = ~self.data.MSA.isin(available_msa)\n",
    "        self.data.loc[unavailable_msa_mask, 'MSA'] = self.data.loc[unavailable_msa_mask, 'PROP_STATE']\n",
    "        self.delete = self.delete | (~self.data.MSA.isin(available_msa_state))\n",
    "        \n",
    "    def _clean_04_mortgage_insurance_pct(self):\n",
    "        self.delete = self.delete | self.data.MORTGAGE_INSURANCE_PCT.isnull()\n",
    "        \n",
    "    def _clean_05_num_of_units(self):\n",
    "        self.delete = self.delete | self.data.NUM_OF_UNITS.isnull()\n",
    "        \n",
    "    def _clean_06_occupancy_status(self):\n",
    "        self.delete = self.delete | self.data.OCCUPANCY_STATUS.isnull()\n",
    "        \n",
    "    def _clean_07_orgn_cltv(self):\n",
    "        self.delete = self.delete | self.data.ORGN_CLTV.isnull()\n",
    "        \n",
    "    def _clean_08_loan_size(self):\n",
    "        self.delete = self.delete | self.data.LOAN_SIZE.isnull()\n",
    "        \n",
    "    def _clean_09_orgn_ltv(self):\n",
    "        self.delete = self.delete | self.data.ORGN_LTV.isnull()\n",
    "        self.delete = self.delete | (self.data.ORGN_LTV > self.data.ORGN_CLTV)\n",
    "        \n",
    "    def _clean_10_orgn_rate(self):\n",
    "        self.delete = self.delete | self.data.ORGN_RATE.isnull()\n",
    "        \n",
    "    def _clean_11_channel(self):\n",
    "        self.delete = self.delete | self.data.CHANNEL.isnull()\n",
    "        \n",
    "    def _clean_12_prop_type(self):\n",
    "        self.delete = self.delete | self.data.PROP_TYPE.isnull()\n",
    "        \n",
    "    def _clean_13_loan_id(self):\n",
    "        self.delete = self.delete | self.data.LOAN_ID.isnull()\n",
    "        \n",
    "    def _clean_14_loan_purpose(self):\n",
    "        self.delete = self.delete | self.data.LOAN_PURPOSE.isnull()\n",
    "        \n",
    "    def _clean_15_num_of_borrowers(self):\n",
    "        self.delete = self.delete | self.data.NUM_OF_BORROWERS.isnull()\n",
    "        \n",
    "    def _clean_16_SUPER_CONFORMING_FLAG(self):\n",
    "        self.data.SUPER_CONFORMING_FLAG.fillna('N', inplace=True)"
   ]
  },
  {
   "cell_type": "code",
   "execution_count": null,
   "metadata": {
    "collapsed": true
   },
   "outputs": [],
   "source": [
    "orig_usecols=[1,3,5,6,7,8,9,11,12,13,14,17,18,20,21,23,26]\n",
    "orig_cols = ['FICO',\n",
    "             'FIRST_TIME_HOME_BUYER_FLAG',\n",
    "             'MSA',\n",
    "             'MORTGAGE_INSURANCE_PCT',\n",
    "             'NUM_OF_UNITS',\n",
    "             'OCCUPANCY_STATUS',\n",
    "             'ORGN_CLTV',\n",
    "             'LOAN_SIZE',\n",
    "             'ORGN_LTV',\n",
    "             'ORGN_RATE',\n",
    "             'CHANNEL',\n",
    "             'PROP_STATE',\n",
    "             'PROP_TYPE',\n",
    "             'LOAN_ID',\n",
    "             'LOAN_PURPOSE',\n",
    "             'NUM_OF_BORROWERS',\n",
    "             'SUPER_CONFORMING_FLAG']"
   ]
  },
  {
   "cell_type": "code",
   "execution_count": null,
   "metadata": {
    "collapsed": true
   },
   "outputs": [],
   "source": [
    "processed_orig_file_list = []\n",
    "\n",
    "orig_file_names = ['historical_data1_{}.txt'.format(x) for x in timestamp]\n",
    "\n",
    "for file_name in orig_file_names:\n",
    "    orig_data_path = os.path.join(unzipped_data_path, file_name)\n",
    "    orig_data = pd.read_csv(orig_data_path,\n",
    "                            header=None,\n",
    "                            names=range(1,27),\n",
    "                            sep='|',\n",
    "                            dtype={1:float, 5:str, 6: float},\n",
    "                            na_values='   ')[orig_usecols]\n",
    "    orig_data.columns = orig_cols\n",
    "    processor = OrigDataProcessor(orig_data)\n",
    "    processor.clean_table()\n",
    "    processed_orig_file_list.append(processor.data)"
   ]
  },
  {
   "cell_type": "code",
   "execution_count": null,
   "metadata": {
    "collapsed": true
   },
   "outputs": [],
   "source": [
    "orig_data_merged = pd.concat(processed_orig_file_list, axis=0)\n",
    "orig_data_merged.set_index('LOAN_ID', inplace=True)"
   ]
  },
  {
   "cell_type": "code",
   "execution_count": null,
   "metadata": {
    "collapsed": true
   },
   "outputs": [],
   "source": [
    "orig_data_merged.to_csv(\"D:\\Dataset\\FreddieMac\\intermediate_data\\orig_data.csv\")\n",
    "del(processed_orig_file_list)"
   ]
  },
  {
   "cell_type": "markdown",
   "metadata": {},
   "source": [
    "## Time data process"
   ]
  },
  {
   "cell_type": "code",
   "execution_count": null,
   "metadata": {
    "collapsed": true
   },
   "outputs": [],
   "source": [
    "time_usecols=np.array([1,2,4,5,9])-1\n",
    "\n",
    "time_cols = ['LOAN_ID',\n",
    "             'DATE',\n",
    "             'DELQ_OBS',\n",
    "             'LOAN_AGE',\n",
    "             'ZERO_BALANCE_CODE']"
   ]
  },
  {
   "cell_type": "code",
   "execution_count": null,
   "metadata": {
    "collapsed": true
   },
   "outputs": [],
   "source": [
    "class TimeDataProcessor(object):\n",
    "    \n",
    "    def __init__(self, data, loanID):\n",
    "        self.data = data.copy()\n",
    "        self.delete = pd.Series(False, index=data.index)\n",
    "        self.clean_funcs = [x for x in dir(TimeDataProcessor) if x.startswith('_clean')]\n",
    "        self.loanID = loanID\n",
    "        \n",
    "    def clean_table(self):\n",
    "        for func in self.clean_funcs:\n",
    "            eval('self.{}()'.format(func))\n",
    "        print(\"{:.1%} rows are deleted\".format(self.delete.sum()/len(self.data)))\n",
    "        self.data = self.data.loc[~self.delete, ['LOAN_ID','QUARTER_DATE','DELQ_OBS','ZERO_BALANCE_CODE']]\n",
    "        self.data.set_index('LOAN_ID',inplace=True)\n",
    "\n",
    "    def _clean_01_loan_id(self):\n",
    "        self.delete = self.data['LOAN_ID'].isnull() | (~self.data['LOAN_ID'].isin(self.loanID))\n",
    "        \n",
    "    def _clean_02_date(self):\n",
    "        year, month = divmod(self.data['DATE'], 100)\n",
    "        quarter = (month-1) // 3 + 1\n",
    "        self.data['QUARTER_DATE'] = year.astype(str) + 'Q' + quarter.astype(str)\n",
    "    \n",
    "    def _clean_03_loan_age(self):\n",
    "        self.delete = self.delete | (self.data['LOAN_AGE'] > 60) | self.data['LOAN_AGE'].isnull()\n",
    "        \n",
    "    def _clean_04_delq_obs(self):\n",
    "        self.data['DELQ_OBS'].replace({'XX':np.nan, 'R':'99'}, inplace=True)\n",
    "        self.data['DELQ_OBS'] = self.data['DELQ_OBS'].astype(float)"
   ]
  },
  {
   "cell_type": "code",
   "execution_count": null,
   "metadata": {},
   "outputs": [],
   "source": [
    "processed_time_file_list = []\n",
    "\n",
    "time_file_names = ['historical_data1_time_{}.txt'.format(x) for x in timestamp]\n",
    "\n",
    "for file_name in time_file_names:\n",
    "    time_data_path = os.path.join(unzipped_data_path, file_name)\n",
    "    time_data = pd.read_csv(time_data_path,\n",
    "                            header=None,\n",
    "                            usecols=time_usecols,\n",
    "                            names=time_cols,\n",
    "                            sep='|',\n",
    "                            dtype={'DELQ_OBS':str, 'DATE': int, 'ZERO_BALANCE_CODE':str},\n",
    "                            na_values=' ')\n",
    "    processor = TimeDataProcessor(time_data,orig_data_merged.index.values)\n",
    "    processor.clean_table()\n",
    "    processor.data = processor.data.join(orig_data_merged[['MSA']],how='left')\n",
    "    processor.data = processor.data.merge(HPI_file, left_on=['QUARTER_DATE','MSA'], right_index=True, how='left')\n",
    "    processed_time_file_list.append(processor.data)"
   ]
  },
  {
   "cell_type": "code",
   "execution_count": null,
   "metadata": {
    "collapsed": true
   },
   "outputs": [],
   "source": [
    "time_data_merged = pd.concat(processed_time_file_list, axis=0)\n",
    "del(processed_time_file_list)"
   ]
  },
  {
   "cell_type": "code",
   "execution_count": null,
   "metadata": {
    "collapsed": true
   },
   "outputs": [],
   "source": [
    "grp = time_data_merged.groupby(time_data_merged.index)\n",
    "hpi_min_max = grp.agg({'HPI':{'min','max'}})['HPI']\n",
    "hpi_orig = grp.first().HPI.to_frame('orig')\n",
    "hpi_info = hpi_orig.join(hpi_min_max, how='left')"
   ]
  },
  {
   "cell_type": "code",
   "execution_count": null,
   "metadata": {
    "collapsed": true
   },
   "outputs": [],
   "source": [
    "hpi_info.columns=['HPI_ORIG','HPI_MIN','HPI_MAX']\n",
    "hpi_info.to_csv(\"D:\\Dataset\\FreddieMac\\intermediate_data\\loan_hpi_info.csv\")"
   ]
  },
  {
   "cell_type": "code",
   "execution_count": null,
   "metadata": {
    "collapsed": true
   },
   "outputs": [],
   "source": [
    "default_1 = time_data_merged[(time_data_merged.DELQ_OBS >=5)|(time_data_merged.ZERO_BALANCE_CODE.isin(['03','09']))].index.unique()\n",
    "default_2 = time_data_merged[(time_data_merged.DELQ_OBS >=5)|(time_data_merged.ZERO_BALANCE_CODE.isin(['03','06','09']))].index.unique()"
   ]
  },
  {
   "cell_type": "markdown",
   "metadata": {},
   "source": [
    "## Data Merging"
   ]
  },
  {
   "cell_type": "code",
   "execution_count": null,
   "metadata": {
    "collapsed": true
   },
   "outputs": [],
   "source": [
    "orig_data_merged = orig_data_merged.join(hpi_info,how='left')"
   ]
  },
  {
   "cell_type": "code",
   "execution_count": null,
   "metadata": {
    "collapsed": true
   },
   "outputs": [],
   "source": [
    "orig_data_merged = orig_data_merged[orig_data_merged.HPI_ORIG.notnull()]"
   ]
  },
  {
   "cell_type": "code",
   "execution_count": null,
   "metadata": {
    "collapsed": true,
    "scrolled": true
   },
   "outputs": [],
   "source": [
    "orig_data_merged.loc[:,'IND_DEFAULT_1'] = 0\n",
    "orig_data_merged.loc[orig_data_merged.index.isin(default_1), 'IND_DEFAULT_1'] = 1\n",
    "orig_data_merged.loc[:,'IND_DEFAULT_2'] = 0\n",
    "orig_data_merged.loc[orig_data_merged.index.isin(default_2), 'IND_DEFAULT_2'] = 1"
   ]
  },
  {
   "cell_type": "code",
   "execution_count": null,
   "metadata": {
    "collapsed": true
   },
   "outputs": [],
   "source": [
    "orig_data_merged.to_csv(\"D:\\Dataset\\FreddieMac\\intermediate_data\\integrated_data.csv\")"
   ]
  }
 ],
 "metadata": {
  "kernelspec": {
   "display_name": "Python 3",
   "language": "python",
   "name": "python3"
  },
  "language_info": {
   "codemirror_mode": {
    "name": "ipython",
    "version": 3
   },
   "file_extension": ".py",
   "mimetype": "text/x-python",
   "name": "python",
   "nbconvert_exporter": "python",
   "pygments_lexer": "ipython3",
   "version": "3.6.2"
  }
 },
 "nbformat": 4,
 "nbformat_minor": 2
}
