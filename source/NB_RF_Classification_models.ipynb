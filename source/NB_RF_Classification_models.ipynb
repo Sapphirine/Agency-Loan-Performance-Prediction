{
 "cells": [
  {
   "cell_type": "code",
   "execution_count": 2,
   "metadata": {
    "collapsed": true
   },
   "outputs": [],
   "source": [
    "import pyspark\n",
    "from pyspark.sql import SQLContext\n",
    "sqlContext = pyspark.SQLContext(sc)\n",
    "\n",
    "#load data\n",
    "loan_df = sqlContext.read.format('com.databricks.spark.csv')\\\n",
    "    .options(header='true', inferschema='true')\\\n",
    "    .load(\"/Users/niniliu/Documents/EECS6893/Project/EECS 6893 Project/integrated_data.csv\")"
   ]
  },
  {
   "cell_type": "code",
   "execution_count": 3,
   "metadata": {
    "collapsed": true
   },
   "outputs": [],
   "source": [
    "#interpret HPI index\n",
    "#loan_df = loan_df.withColumn('HPI_var',(loan_df['HPI_MAX']-loan_df['HPI_MIN'])/loan_df['HPI_ORIG'])\n",
    "loan_df = loan_df.withColumn('HPI_inc',loan_df['HPI_MAX']/loan_df['HPI_ORIG'])\n",
    "loan_df = loan_df.withColumn('HPI_dec',loan_df['HPI_ORIG']/loan_df['HPI_MIN'])"
   ]
  },
  {
   "cell_type": "code",
   "execution_count": 4,
   "metadata": {},
   "outputs": [
    {
     "name": "stdout",
     "output_type": "stream",
     "text": [
      "+----------------------------------------+------------------------------+---------------------+-----------------------+--------------------------+-----------------------------------+-----+----------------------+------------+---------+--------+---------+----------------+--------+------------------+------------------+-------------+\n",
      "|OneHotEncoder_FIRST_TIME_HOME_BUYER_FLAG|OneHotEncoder_OCCUPANCY_STATUS|OneHotEncoder_CHANNEL|OneHotEncoder_PROP_TYPE|OneHotEncoder_LOAN_PURPOSE|OneHotEncoder_SUPER_CONFORMING_FLAG| FICO|MORTGAGE_INSURANCE_PCT|NUM_OF_UNITS|LOAN_SIZE|ORGN_LTV|ORGN_RATE|NUM_OF_BORROWERS|HPI_ORIG|           HPI_inc|           HPI_dec|IND_DEFAULT_2|\n",
      "+----------------------------------------+------------------------------+---------------------+-----------------------+--------------------------+-----------------------------------+-----+----------------------+------------+---------+--------+---------+----------------+--------+------------------+------------------+-------------+\n",
      "|                           (2,[0],[1.0])|                 (2,[0],[1.0])|        (3,[0],[1.0])|          (5,[2],[1.0])|             (2,[0],[1.0])|                      (1,[0],[1.0])|812.0|                   0.0|         1.0|    99000|    69.0|     4.75|             1.0|  164.57|               1.0|1.1235747934730662|            0|\n",
      "|                           (2,[0],[1.0])|                 (2,[0],[1.0])|        (3,[0],[1.0])|          (5,[0],[1.0])|             (2,[1],[1.0])|                      (1,[0],[1.0])|762.0|                   0.0|         1.0|    72000|    80.0|      5.0|             2.0|  287.41|1.0238683413938274|1.0233576642335767|            0|\n",
      "|                           (2,[0],[1.0])|                 (2,[0],[1.0])|        (3,[0],[1.0])|          (5,[3],[1.0])|             (2,[0],[1.0])|                      (1,[0],[1.0])|741.0|                   0.0|         1.0|   151000|    51.0|      5.5|             2.0|  221.68|1.0069018404907975| 1.052361737479231|            0|\n",
      "|                           (2,[0],[1.0])|                 (2,[0],[1.0])|        (3,[0],[1.0])|          (5,[0],[1.0])|             (2,[0],[1.0])|                      (1,[0],[1.0])|749.0|                  12.0|         1.0|   188000|    82.0|     4.75|             1.0|  148.13|1.0007425909673937|1.0631594057274096|            0|\n",
      "|                           (2,[1],[1.0])|                 (2,[0],[1.0])|        (3,[0],[1.0])|          (5,[0],[1.0])|             (2,[0],[1.0])|                      (1,[0],[1.0])|738.0|                   0.0|         1.0|   151000|    66.0|      5.0|             2.0|  168.21|               1.0|1.1137522346553665|            0|\n",
      "+----------------------------------------+------------------------------+---------------------+-----------------------+--------------------------+-----------------------------------+-----+----------------------+------------+---------+--------+---------+----------------+--------+------------------+------------------+-------------+\n",
      "only showing top 5 rows\n",
      "\n"
     ]
    }
   ],
   "source": [
    "#transform loan data\n",
    "from pyspark.ml.feature import StringIndexer\n",
    "from pyspark.ml.feature import OneHotEncoder\n",
    "\n",
    "categorical = ['FIRST_TIME_HOME_BUYER_FLAG','OCCUPANCY_STATUS','CHANNEL','PROP_TYPE',\n",
    "               'LOAN_PURPOSE','SUPER_CONFORMING_FLAG']\n",
    "numeric = ['FICO','MORTGAGE_INSURANCE_PCT','NUM_OF_UNITS',\n",
    "           'LOAN_SIZE','ORGN_LTV','ORGN_RATE','NUM_OF_BORROWERS','HPI_ORIG',\n",
    "           'HPI_inc','HPI_dec','IND_DEFAULT_2']\n",
    "\n",
    "stringindexers = [StringIndexer(inputCol=x, outputCol='StringIndex_'+x) for x in categorical]\n",
    "onehotencoders = [OneHotEncoder(inputCol='StringIndex_'+x, outputCol='OneHotEncoder_'+x) for x in categorical]\n",
    "stages = stringindexers + onehotencoders\n",
    "\n",
    "#build pipeline model\n",
    "from pyspark.ml import Pipeline\n",
    "pipeline = Pipeline(stages=stages)\n",
    "\n",
    "pipeline_mode = pipeline.fit(loan_df)\n",
    "df_coded = pipeline_mode.transform(loan_df)\n",
    "\n",
    "#filter useful data\n",
    "selected_columns = ['OneHotEncoder_'+x for x in categorical] + numeric\n",
    "df_coded = df_coded.select(selected_columns)\n",
    "\n",
    "df_coded.show(5)"
   ]
  },
  {
   "cell_type": "code",
   "execution_count": 6,
   "metadata": {},
   "outputs": [
    {
     "name": "stdout",
     "output_type": "stream",
     "text": [
      "+----------------------------------------+------------------------------+---------------------+-----------------------+--------------------------+-----------------------------------+-----+----------------------+------------+---------+--------+---------+----------------+--------+------------------+------------------+-------------+--------------------+\n",
      "|OneHotEncoder_FIRST_TIME_HOME_BUYER_FLAG|OneHotEncoder_OCCUPANCY_STATUS|OneHotEncoder_CHANNEL|OneHotEncoder_PROP_TYPE|OneHotEncoder_LOAN_PURPOSE|OneHotEncoder_SUPER_CONFORMING_FLAG| FICO|MORTGAGE_INSURANCE_PCT|NUM_OF_UNITS|LOAN_SIZE|ORGN_LTV|ORGN_RATE|NUM_OF_BORROWERS|HPI_ORIG|           HPI_inc|           HPI_dec|IND_DEFAULT_2|            features|\n",
      "+----------------------------------------+------------------------------+---------------------+-----------------------+--------------------------+-----------------------------------+-----+----------------------+------------+---------+--------+---------+----------------+--------+------------------+------------------+-------------+--------------------+\n",
      "|                           (2,[0],[1.0])|                 (2,[0],[1.0])|        (3,[0],[1.0])|          (5,[2],[1.0])|             (2,[0],[1.0])|                      (1,[0],[1.0])|812.0|                   0.0|         1.0|    99000|    69.0|     4.75|             1.0|  164.57|               1.0|1.1235747934730662|            0|(25,[0,2,4,9,12,1...|\n",
      "|                           (2,[0],[1.0])|                 (2,[0],[1.0])|        (3,[0],[1.0])|          (5,[0],[1.0])|             (2,[1],[1.0])|                      (1,[0],[1.0])|762.0|                   0.0|         1.0|    72000|    80.0|      5.0|             2.0|  287.41|1.0238683413938274|1.0233576642335767|            0|(25,[0,2,4,7,13,1...|\n",
      "|                           (2,[0],[1.0])|                 (2,[0],[1.0])|        (3,[0],[1.0])|          (5,[3],[1.0])|             (2,[0],[1.0])|                      (1,[0],[1.0])|741.0|                   0.0|         1.0|   151000|    51.0|      5.5|             2.0|  221.68|1.0069018404907975| 1.052361737479231|            0|(25,[0,2,4,10,12,...|\n",
      "|                           (2,[0],[1.0])|                 (2,[0],[1.0])|        (3,[0],[1.0])|          (5,[0],[1.0])|             (2,[0],[1.0])|                      (1,[0],[1.0])|749.0|                  12.0|         1.0|   188000|    82.0|     4.75|             1.0|  148.13|1.0007425909673937|1.0631594057274096|            0|[1.0,0.0,1.0,0.0,...|\n",
      "|                           (2,[1],[1.0])|                 (2,[0],[1.0])|        (3,[0],[1.0])|          (5,[0],[1.0])|             (2,[0],[1.0])|                      (1,[0],[1.0])|738.0|                   0.0|         1.0|   151000|    66.0|      5.0|             2.0|  168.21|               1.0|1.1137522346553665|            0|(25,[1,2,4,7,12,1...|\n",
      "+----------------------------------------+------------------------------+---------------------+-----------------------+--------------------------+-----------------------------------+-----+----------------------+------------+---------+--------+---------+----------------+--------+------------------+------------------+-------------+--------------------+\n",
      "only showing top 5 rows\n",
      "\n"
     ]
    }
   ],
   "source": [
    "#assemble vectors\n",
    "from pyspark.ml.feature import VectorAssembler\n",
    "from pyspark.sql.functions import *\n",
    "\n",
    "feature_columns = df_coded.columns[:-1]\n",
    "assembler = VectorAssembler(inputCols=feature_columns,outputCol='features')\n",
    "df_features = assembler.transform(df_coded)\n",
    "\n",
    "df_features.show(5)\n",
    "\n",
    "(train,test) = df_features.select(col(\"IND_DEFAULT_2\").alias(\"label\"), \"features\").randomSplit([0.8, 0.2])"
   ]
  },
  {
   "cell_type": "markdown",
   "metadata": {},
   "source": [
    "## Naive Bayes"
   ]
  },
  {
   "cell_type": "code",
   "execution_count": null,
   "metadata": {
    "collapsed": true
   },
   "outputs": [],
   "source": [
    "from pyspark.ml.classification import NaiveBayes\n",
    "from pyspark.ml.evaluation import MulticlassClassificationEvaluator\n",
    "from pyspark.sql.functions import *\n",
    "\n",
    "\n",
    "\n",
    "nb = NaiveBayes(smoothing=0.5, modelType=\"multinomial\")\n",
    "model = nb.fit(train)\n",
    "predictions = model.transform(test)\n",
    "predictions.show(5)\n",
    "\n",
    "# compute accuracy on the test set\n",
    "evaluator = MulticlassClassificationEvaluator(labelCol=\"label\", predictionCol=\"prediction\",\n",
    "                                              metricName=\"accuracy\")\n",
    "accuracy = evaluator.evaluate(predictions)\n",
    "#predictions.show(5,False)\n",
    "print(\"Test set accuracy = \" + str(accuracy))"
   ]
  },
  {
   "cell_type": "markdown",
   "metadata": {},
   "source": [
    "## Random Forest Classifier"
   ]
  },
  {
   "cell_type": "code",
   "execution_count": null,
   "metadata": {
    "collapsed": true
   },
   "outputs": [],
   "source": [
    "from pyspark.ml.classification import RandomForestClassifier\n",
    "\n",
    "rf = RandomForestClassifier(labelCol=\"label\", featuresCol=\"features\", numTrees=10)\n",
    "rf_model = rf.fit(train)\n",
    "rf_predictions = rf_model.transform(test)\n",
    "rf_predictions.show(5)\n",
    "\n",
    "# compute accuracy on the test set\n",
    "evaluator = MulticlassClassificationEvaluator(labelCol=\"label\", predictionCol=\"prediction\",\n",
    "                                              metricName=\"accuracy\")\n",
    "accuracy = evaluator.evaluate(rf_predictions)\n",
    "#rf_predictions.show(5)\n",
    "print(\"Test set accuracy = \" + str(accuracy))"
   ]
  },
  {
   "cell_type": "code",
   "execution_count": null,
   "metadata": {
    "collapsed": true
   },
   "outputs": [],
   "source": [
    "rf_predictions.where(col(\"label\")==1).show()"
   ]
  },
  {
   "cell_type": "markdown",
   "metadata": {},
   "source": [
    "## Random Forest Regressor"
   ]
  },
  {
   "cell_type": "code",
   "execution_count": 7,
   "metadata": {},
   "outputs": [
    {
     "name": "stdout",
     "output_type": "stream",
     "text": [
      "+--------------------+-----+--------------------+\n",
      "|          prediction|label|            features|\n",
      "+--------------------+-----+--------------------+\n",
      "| 0.03201533162816545|    0|(25,[0,2,4,7,12,1...|\n",
      "|0.017692284740118226|    0|(25,[0,2,4,7,12,1...|\n",
      "|0.010411475435835685|    0|(25,[0,2,4,7,12,1...|\n",
      "| 0.01602776084161051|    0|(25,[0,2,4,7,12,1...|\n",
      "|0.015929442283545883|    0|(25,[0,2,4,7,12,1...|\n",
      "+--------------------+-----+--------------------+\n",
      "only showing top 5 rows\n",
      "\n",
      "Root Mean Squared Error (RMSE) on test data = 0.0820604\n"
     ]
    }
   ],
   "source": [
    "from pyspark.ml import Pipeline\n",
    "from pyspark.ml.regression import RandomForestRegressor\n",
    "from pyspark.ml.feature import VectorIndexer\n",
    "from pyspark.ml.evaluation import RegressionEvaluator\n",
    "\n",
    "# Set maxCategories so features with > 4 distinct values are treated as continuous.\n",
    "featureIndexer =\\\n",
    "    VectorIndexer(inputCol=\"features\", outputCol=\"indexedFeatures\", maxCategories=4).fit(df_features)\n",
    "\n",
    "# Train a RandomForest model.\n",
    "rf_reg = RandomForestRegressor(featuresCol=\"indexedFeatures\")\n",
    "\n",
    "# Chain indexer and forest in a Pipeline\n",
    "rf_pipeline = Pipeline(stages=[featureIndexer, rf_reg])\n",
    "\n",
    "# Train model.  This also runs the indexer.\n",
    "rfreg_model = rf_pipeline.fit(train)\n",
    "\n",
    "# Make predictions.\n",
    "rfreg_predictions = rfreg_model.transform(test)\n",
    "\n",
    "# Select example rows to display.\n",
    "rfreg_predictions.select(\"prediction\", \"label\", \"features\").show(5)\n",
    "\n",
    "# Select (prediction, true label) and compute test error\n",
    "rfreg_evaluator = RegressionEvaluator(\n",
    "    labelCol=\"label\", predictionCol=\"prediction\", metricName=\"rmse\")\n",
    "rmse = rfreg_evaluator.evaluate(rfreg_predictions)\n",
    "print(\"Root Mean Squared Error (RMSE) on test data = %g\" % rmse)"
   ]
  },
  {
   "cell_type": "code",
   "execution_count": 9,
   "metadata": {},
   "outputs": [
    {
     "name": "stdout",
     "output_type": "stream",
     "text": [
      "AUC is 0.800412568762\n"
     ]
    },
    {
     "data": {
      "image/png": "[encoded data removed]",
      "text/plain": [
       "<matplotlib.figure.Figure at 0x10f185050>"
      ]
     },
     "metadata": {},
     "output_type": "display_data"
    }
   ],
   "source": [
    "import matplotlib.pyplot as plt\n",
    "from sklearn.metrics import roc_curve\n",
    "from sklearn.metrics import roc_auc_score\n",
    "%matplotlib inline\n",
    "\n",
    "rfreg_fpr, rfreg_tpr, rfreg_threshold = roc_curve(rfreg_predictions.select(\"label\").collect(), \n",
    "                                         rfreg_predictions.select(\"prediction\").collect())\n",
    "\n",
    "plt.plot([0, 1], [0, 1], 'k--')\n",
    "plt.plot(rfreg_fpr, rfreg_tpr)\n",
    "plt.title('Gradient Boosting ROC Curve')\n",
    "print('AUC is {}'.format(roc_auc_score(rfreg_predictions.select(\"label\").collect(), \n",
    "                                         rfreg_predictions.select(\"prediction\").collect())))"
   ]
  },
  {
   "cell_type": "code",
   "execution_count": 10,
   "metadata": {
    "collapsed": true
   },
   "outputs": [],
   "source": []
  },
  {
   "cell_type": "code",
   "execution_count": null,
   "metadata": {
    "collapsed": true
   },
   "outputs": [],
   "source": []
  }
 ],
 "metadata": {
  "kernelspec": {
   "display_name": "Python 2",
   "language": "python",
   "name": "python2"
  },
  "language_info": {
   "codemirror_mode": {
    "name": "ipython",
    "version": 2
   },
   "file_extension": ".py",
   "mimetype": "text/x-python",
   "name": "python",
   "nbconvert_exporter": "python",
   "pygments_lexer": "ipython2",
   "version": "2.7.13"
  }
 },
 "nbformat": 4,
 "nbformat_minor": 2
}
